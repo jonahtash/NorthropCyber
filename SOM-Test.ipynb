{
 "cells": [
  {
   "cell_type": "markdown",
   "metadata": {},
   "source": [
    "# Biometric Prediction on Keystroke Dynamics\n",
    "\n",
    "This project takes a look at a biometric classifier with keystroke dynamics. Besides typing a password to validate a user, it is possible to discriminate users by their typing rhythms. This features can be used to detect impostors. This project is based on the data set of the publication _Killourhy, K. S., & Maxion, R. A. [Comparing anomaly detectors for keystroke dynamics.](http://www.cs.cmu.edu/%7Emaxion/pubs/KillourhyMaxion09.pdf) In Proc. of the Int. Conf. on Dependable Systems and Networks (DSN) (pp. 125-134)_. The objective is to build a classification baser on neural networks with the [keras](https://keras.io/) library.\n",
    "\n",
    "The [data set](https://www.cs.cmu.edu/~keystroke/) consists of 51 subject each typing the password `.tie5Roanl` 400 times. The measures collected are the hold time (H), keydown-keydown time (DD) and keyup-keydown time (UD)."
   ]
  },
  {
   "cell_type": "code",
   "execution_count": 1,
   "metadata": {},
   "outputs": [],
   "source": [
    "import pandas as pd\n",
    "import numpy as np\n",
    "import matplotlib.pyplot as plt\n",
    "from matplotlib.gridspec import GridSpec \n",
    "\n",
    "from minisom import MiniSom\n",
    "plt.style.use('ggplot')\n",
    "%matplotlib inline"
   ]
  },
  {
   "cell_type": "code",
   "execution_count": 2,
   "metadata": {},
   "outputs": [
    {
     "data": {
      "text/html": [
       "<div>\n",
       "<style scoped>\n",
       "    .dataframe tbody tr th:only-of-type {\n",
       "        vertical-align: middle;\n",
       "    }\n",
       "\n",
       "    .dataframe tbody tr th {\n",
       "        vertical-align: top;\n",
       "    }\n",
       "\n",
       "    .dataframe thead th {\n",
       "        text-align: right;\n",
       "    }\n",
       "</style>\n",
       "<table border=\"1\" class=\"dataframe\">\n",
       "  <thead>\n",
       "    <tr style=\"text-align: right;\">\n",
       "      <th></th>\n",
       "      <th>subject</th>\n",
       "      <th>H.period</th>\n",
       "      <th>DD.period.k</th>\n",
       "      <th>UD.period.k</th>\n",
       "      <th>H.k</th>\n",
       "      <th>DD.k.three</th>\n",
       "      <th>UD.k.three</th>\n",
       "      <th>H.three</th>\n",
       "      <th>DD.three.m</th>\n",
       "      <th>UD.three.m</th>\n",
       "      <th>...</th>\n",
       "      <th>UD.a.b</th>\n",
       "      <th>H.b</th>\n",
       "      <th>DD.b.z</th>\n",
       "      <th>UD.b.z</th>\n",
       "      <th>H.z</th>\n",
       "      <th>DD.z.Enter</th>\n",
       "      <th>UD.z.Enter</th>\n",
       "      <th>H.Enter</th>\n",
       "      <th>DD.Enter.</th>\n",
       "      <th>UD.Enter.</th>\n",
       "    </tr>\n",
       "  </thead>\n",
       "  <tbody>\n",
       "    <tr>\n",
       "      <th>0</th>\n",
       "      <td>1</td>\n",
       "      <td>148</td>\n",
       "      <td>112</td>\n",
       "      <td>78</td>\n",
       "      <td>78</td>\n",
       "      <td>0</td>\n",
       "      <td>45</td>\n",
       "      <td>46</td>\n",
       "      <td>1</td>\n",
       "      <td>71</td>\n",
       "      <td>...</td>\n",
       "      <td>105</td>\n",
       "      <td>105</td>\n",
       "      <td>0</td>\n",
       "      <td>62</td>\n",
       "      <td>62</td>\n",
       "      <td>0</td>\n",
       "      <td>40</td>\n",
       "      <td>40</td>\n",
       "      <td>0</td>\n",
       "      <td>69</td>\n",
       "    </tr>\n",
       "    <tr>\n",
       "      <th>1</th>\n",
       "      <td>1</td>\n",
       "      <td>167</td>\n",
       "      <td>98</td>\n",
       "      <td>65</td>\n",
       "      <td>66</td>\n",
       "      <td>1</td>\n",
       "      <td>100</td>\n",
       "      <td>100</td>\n",
       "      <td>0</td>\n",
       "      <td>40</td>\n",
       "      <td>...</td>\n",
       "      <td>34</td>\n",
       "      <td>34</td>\n",
       "      <td>0</td>\n",
       "      <td>50</td>\n",
       "      <td>50</td>\n",
       "      <td>0</td>\n",
       "      <td>94</td>\n",
       "      <td>95</td>\n",
       "      <td>1</td>\n",
       "      <td>85</td>\n",
       "    </tr>\n",
       "    <tr>\n",
       "      <th>2</th>\n",
       "      <td>1</td>\n",
       "      <td>186</td>\n",
       "      <td>101</td>\n",
       "      <td>55</td>\n",
       "      <td>56</td>\n",
       "      <td>1</td>\n",
       "      <td>73</td>\n",
       "      <td>73</td>\n",
       "      <td>0</td>\n",
       "      <td>56</td>\n",
       "      <td>...</td>\n",
       "      <td>74</td>\n",
       "      <td>75</td>\n",
       "      <td>1</td>\n",
       "      <td>53</td>\n",
       "      <td>55</td>\n",
       "      <td>2</td>\n",
       "      <td>47</td>\n",
       "      <td>48</td>\n",
       "      <td>1</td>\n",
       "      <td>65</td>\n",
       "    </tr>\n",
       "    <tr>\n",
       "      <th>3</th>\n",
       "      <td>1</td>\n",
       "      <td>167</td>\n",
       "      <td>102</td>\n",
       "      <td>90</td>\n",
       "      <td>90</td>\n",
       "      <td>0</td>\n",
       "      <td>40</td>\n",
       "      <td>40</td>\n",
       "      <td>0</td>\n",
       "      <td>88</td>\n",
       "      <td>...</td>\n",
       "      <td>38</td>\n",
       "      <td>38</td>\n",
       "      <td>0</td>\n",
       "      <td>88</td>\n",
       "      <td>88</td>\n",
       "      <td>0</td>\n",
       "      <td>95</td>\n",
       "      <td>98</td>\n",
       "      <td>3</td>\n",
       "      <td>58</td>\n",
       "    </tr>\n",
       "    <tr>\n",
       "      <th>4</th>\n",
       "      <td>1</td>\n",
       "      <td>157</td>\n",
       "      <td>99</td>\n",
       "      <td>94</td>\n",
       "      <td>95</td>\n",
       "      <td>1</td>\n",
       "      <td>62</td>\n",
       "      <td>62</td>\n",
       "      <td>0</td>\n",
       "      <td>101</td>\n",
       "      <td>...</td>\n",
       "      <td>63</td>\n",
       "      <td>63</td>\n",
       "      <td>0</td>\n",
       "      <td>52</td>\n",
       "      <td>52</td>\n",
       "      <td>0</td>\n",
       "      <td>93</td>\n",
       "      <td>94</td>\n",
       "      <td>1</td>\n",
       "      <td>79</td>\n",
       "    </tr>\n",
       "  </tbody>\n",
       "</table>\n",
       "<p>5 rows × 34 columns</p>\n",
       "</div>"
      ],
      "text/plain": [
       "   subject  H.period  DD.period.k  UD.period.k  H.k  DD.k.three  UD.k.three  \\\n",
       "0        1       148          112           78   78           0          45   \n",
       "1        1       167           98           65   66           1         100   \n",
       "2        1       186          101           55   56           1          73   \n",
       "3        1       167          102           90   90           0          40   \n",
       "4        1       157           99           94   95           1          62   \n",
       "\n",
       "   H.three  DD.three.m  UD.three.m    ...      UD.a.b  H.b  DD.b.z  UD.b.z  \\\n",
       "0       46           1          71    ...         105  105       0      62   \n",
       "1      100           0          40    ...          34   34       0      50   \n",
       "2       73           0          56    ...          74   75       1      53   \n",
       "3       40           0          88    ...          38   38       0      88   \n",
       "4       62           0         101    ...          63   63       0      52   \n",
       "\n",
       "   H.z  DD.z.Enter  UD.z.Enter  H.Enter  DD.Enter.  UD.Enter.  \n",
       "0   62           0          40       40          0         69  \n",
       "1   50           0          94       95          1         85  \n",
       "2   55           2          47       48          1         65  \n",
       "3   88           0          95       98          3         58  \n",
       "4   52           0          93       94          1         79  \n",
       "\n",
       "[5 rows x 34 columns]"
      ]
     },
     "execution_count": 2,
     "metadata": {},
     "output_type": "execute_result"
    }
   ],
   "source": [
    "df = pd.read_csv('data/test_data.csv')\n",
    "subject = df['subject']\n",
    "df.head()"
   ]
  },
  {
   "cell_type": "code",
   "execution_count": 3,
   "metadata": {},
   "outputs": [
    {
     "data": {
      "text/plain": [
       "(array([[0.10905365, 0.31693717, 0.20788352, ..., 0.12268536, 0.37316796,\n",
       "         0.2504826 ],\n",
       "        [0.36261439, 0.26302312, 0.12257388, ..., 0.23493327, 0.00510724,\n",
       "         0.15832459],\n",
       "        [0.34682589, 0.25021011, 0.21800485, ..., 0.09909311, 0.        ,\n",
       "         0.14120769],\n",
       "        ...,\n",
       "        [0.38198202, 0.25629761, 0.16757921, ..., 0.24644001, 0.0024644 ,\n",
       "         0.22426041],\n",
       "        [0.53236668, 0.28264829, 0.11251048, ..., 0.27167166, 0.00274416,\n",
       "         0.20855602],\n",
       "        [0.1476668 , 0.32889425, 0.18122744, ..., 0.10907207, 0.30875786,\n",
       "         0.19968579]]),\n",
       " array([0, 1, 1, 1, 0, 0, 1, 0, 0, 0, 0, 1, 0, 1, 1, 0, 1, 1, 0, 1, 0, 0,\n",
       "        0, 0, 0, 1, 0, 1, 1, 1, 0, 0, 1, 0, 0, 0, 1, 1, 0, 0, 1, 1, 1, 1,\n",
       "        0, 1, 0, 1, 1, 1, 1, 1, 1, 1, 0, 0, 0, 1, 1, 0, 0, 1, 1, 0, 1, 1,\n",
       "        0, 1, 0, 0, 0, 0, 0, 0, 1, 1, 1, 0, 0, 1, 1, 1, 1, 1, 1, 0, 1, 0,\n",
       "        0, 1, 1, 1, 1, 0, 0, 1, 1, 1, 1, 0, 0, 0, 1, 1, 0, 1, 1, 1, 0, 1,\n",
       "        0, 0, 1, 0, 0, 1, 1, 1, 1, 0, 1, 1, 0, 1, 1, 1, 0, 1, 1, 1, 1, 1,\n",
       "        0, 0, 0, 1, 1, 1, 1, 0], dtype=int64),\n",
       " (176, 33),\n",
       " 176)"
      ]
     },
     "execution_count": 3,
     "metadata": {},
     "output_type": "execute_result"
    }
   ],
   "source": [
    "from sklearn.model_selection import train_test_split\n",
    "from sklearn.preprocessing import MinMaxScaler, Normalizer, StandardScaler\n",
    "\n",
    "#df_data = df.drop(columns=['subject', 'sessionIndex', 'rep'])\n",
    "df_data = df.drop(columns=['subject'])\n",
    "X = df_data.iloc[:, :].values \n",
    "y = df[\"subject\"].loc[:].values \n",
    "\n",
    "# X_1 = df_data.iloc[0:100, :]\n",
    "# X_2 = df_data.iloc[400:500, :]\n",
    "# X_frames = [X_1, X_2]\n",
    "# X = pd.concat(X_frames).values\n",
    "\n",
    "# y_1 = df[\"subject\"].loc[0:99]\n",
    "# y_2 = df[\"subject\"].loc[400:499]\n",
    "# y_frames = [y_1, y_2]\n",
    "# y = pd.concat(y_frames).values\n",
    "\n",
    "X_train, X_test, y_train, y_test = train_test_split(X, y, \n",
    "                                                    test_size=0.2, \n",
    "                                                    shuffle=True, \n",
    "                                                    random_state=42,\n",
    "                                                    stratify=df[\"subject\"].values)\n",
    "sc = Normalizer()\n",
    "X_train_scaled = sc.fit_transform(X_train)\n",
    "X_test_scaled = sc.fit_transform(X_test)\n",
    "\n",
    "X_train_scaled, y_train, X.shape, y.size"
   ]
  },
  {
   "cell_type": "code",
   "execution_count": 4,
   "metadata": {},
   "outputs": [
    {
     "name": "stdout",
     "output_type": "stream",
     "text": [
      "iteration=9999 status=99.99% error=0.13042918471699239"
     ]
    },
    {
     "data": {
      "text/plain": [
       "Text(0.5,0,'iteration index')"
      ]
     },
     "execution_count": 4,
     "metadata": {},
     "output_type": "execute_result"
    },
    {
     "data": {
      "image/png": "[encoded data removed]",
      "text/plain": [
       "<Figure size 432x288 with 1 Axes>"
      ]
     },
     "metadata": {},
     "output_type": "display_data"
    }
   ],
   "source": [
    "# Training the Data \n",
    "import sys\n",
    "\n",
    "grid_x = 8\n",
    "grid_y = 8\n",
    "sigma = 1\n",
    "neighborhood_function='gaussian'\n",
    "\n",
    "som = MiniSom(grid_x, grid_y, 33, sigma, learning_rate=0.5, \n",
    "              neighborhood_function=neighborhood_function, random_seed=10)\n",
    "som.pca_weights_init(X_train_scaled)\n",
    "max_iter = 10001\n",
    "q_error_pca_init = []\n",
    "iter_x = []\n",
    "\n",
    "for i in range(max_iter):\n",
    "    percent = 100*(i+1)/max_iter\n",
    "    rand_i = np.random.randint(len(X_train_scaled))\n",
    "    som.update(X_train_scaled[rand_i], som.winner(X_train_scaled[rand_i]), i, max_iter)\n",
    "    if (i+1) % 100 == 0:\n",
    "        error = som.quantization_error(X_train_scaled)\n",
    "        q_error_pca_init.append(error)\n",
    "        iter_x.append(i)\n",
    "        sys.stdout.write(f'\\riteration={i:2d} status={percent:0.2f}% error={error}')\n",
    "        \n",
    "plt.plot(iter_x, q_error_pca_init)\n",
    "plt.ylabel('quantization error')\n",
    "plt.xlabel('iteration index')"
   ]
  },
  {
   "cell_type": "code",
   "execution_count": 5,
   "metadata": {
    "scrolled": true
   },
   "outputs": [
    {
     "data": {
      "image/png": "[encoded data removed]",
      "text/plain": [
       "<Figure size 432x288 with 2 Axes>"
      ]
     },
     "metadata": {},
     "output_type": "display_data"
    },
    {
     "name": "stdout",
     "output_type": "stream",
     "text": [
      "Quantization error 0.13055076054477427\n"
     ]
    }
   ],
   "source": [
    "from pylab import bone, pcolor, colorbar, plot, show\n",
    "\n",
    "bone()\n",
    "pcolor(som.distance_map().T)\n",
    "colorbar()\n",
    "\n",
    "# Subject 2 is a red circle, Subjecr 3 is a green circle\n",
    "markers = ['o', 's', '*']\n",
    "colors = ['r', 'g', 'b']\n",
    "for i, x in enumerate(X_train_scaled):\n",
    "    w = som.winner(x)\n",
    "    plot(w[0] + 0.5,\n",
    "         w[1] + 0.5, \n",
    "         markers[y[i]-3],\n",
    "         markeredgecolor = colors[y[i]-3], \n",
    "         markerfacecolor = 'None', \n",
    "         markersize = 10, \n",
    "         markeredgewidth = 1)\n",
    "plt.savefig(\"clustering_{}_{}_{}.png\".format(grid_x, sigma, \n",
    "                                             neighborhood_function))\n",
    "show()\n",
    "error = som.quantization_error(X_train_scaled)\n",
    "print(\"Quantization error {}\".format(error))"
   ]
  },
  {
   "cell_type": "code",
   "execution_count": 17,
   "metadata": {},
   "outputs": [],
   "source": [
    "import random\n",
    "\n",
    "def predict_user(data): \n",
    "    winner = som.winner(data)\n",
    "    labels_map = som.labels_map(X, y)\n",
    "    label_names = np.unique(y)\n",
    "    if(type(labels_map[winner]) != list):\n",
    "        label_pred = labels_map[winner].most_common(1)[0][0]\n",
    "    else:\n",
    "        label_pred = random.randint(0,1);\n",
    "        print(label_pred)\n",
    "    return label_pred\n",
    " "
   ]
  },
  {
   "cell_type": "code",
   "execution_count": 26,
   "metadata": {
    "scrolled": true
   },
   "outputs": [
    {
     "name": "stdout",
     "output_type": "stream",
     "text": [
      "0\n",
      "0\n",
      "1\n"
     ]
    }
   ],
   "source": [
    "from sklearn.metrics import accuracy_score, f1_score, roc_auc_score\n",
    "\n",
    "y_pred = []\n",
    "total_accuracy = 0\n",
    "total_F1 = 0\n",
    "total_auc = 0\n",
    "\n",
    "for i in range(X_test_scaled.shape[0]):\n",
    "    test = X_test_scaled[i,:]\n",
    "    label_pred = predict_user(test)\n",
    "    y_pred.append(label_pred)\n",
    "#     win = som.winner(test)\n",
    "#     labels_map = som.labels_map(X, y)\n",
    "#     label_names = np.unique(y)\n",
    "#     print(labels_map[win])\n",
    "#     if(type(labels_map[win]) != list):\n",
    "#         label_pred = labels_map[win].most_common(1)[0][0]\n",
    "#         y_pred.append(label_pred)\n",
    "#     else:\n",
    "#         if(y_test[i] == 0):\n",
    "#             y_pred.append(1)\n",
    "#         else:\n",
    "#             y_pred.append(0)\n",
    "            \n",
    "y_pred = np.asarray(y_pred)"
   ]
  },
  {
   "cell_type": "code",
   "execution_count": 27,
   "metadata": {},
   "outputs": [
    {
     "name": "stdout",
     "output_type": "stream",
     "text": [
      "% Accuracy:  0.9444444444444444\n",
      "F1 score:  0.9500000000000001\n",
      "AUC score:  0.94375\n"
     ]
    },
    {
     "data": {
      "text/plain": [
       "(array([0, 1, 0, 0, 1, 0, 0, 1, 1, 1, 1, 1, 0, 1, 0, 1, 1, 0, 0, 0, 1, 1,\n",
       "        0, 0, 1, 0, 0, 1, 0, 1, 0, 1, 1, 1, 1, 1], dtype=int64),\n",
       " array([0, 1, 0, 0, 1, 0, 0, 1, 0, 1, 1, 1, 0, 1, 0, 1, 1, 0, 0, 0, 1, 1,\n",
       "        0, 0, 1, 1, 0, 1, 0, 1, 0, 1, 1, 1, 1, 1], dtype=int64))"
      ]
     },
     "execution_count": 27,
     "metadata": {},
     "output_type": "execute_result"
    }
   ],
   "source": [
    "# y_test = np.subtract(y_test,2)\n",
    "# y_pred = np.subtract(y_pred,2)\n",
    "\n",
    "# y_test = np.add(y_test,1)\n",
    "# y_pred = np.add(y_pred,1)\n",
    "\n",
    "print(\"% Accuracy: \", accuracy_score(y_test[:], y_pred))\n",
    "print(\"F1 score: \", f1_score(y_test[:], y_pred)) \n",
    "print(\"AUC score: \", roc_auc_score(y_test[:], y_pred))\n",
    "y_test, y_pred"
   ]
  },
  {
   "cell_type": "code",
   "execution_count": 31,
   "metadata": {},
   "outputs": [],
   "source": [
    "import pickle \n",
    "\n",
    "with open('som_8_8_1_gaussian.p', 'wb') as outfile:\n",
    "    pickle.dump(som, outfile)"
   ]
  },
  {
   "cell_type": "code",
   "execution_count": null,
   "metadata": {},
   "outputs": [],
   "source": []
  },
  {
   "cell_type": "markdown",
   "metadata": {},
   "source": [
    "## Activations Frequencies "
   ]
  },
  {
   "cell_type": "code",
   "execution_count": 32,
   "metadata": {},
   "outputs": [
    {
     "data": {
      "image/png": "[encoded data removed]",
      "text/plain": [
       "<Figure size 648x576 with 2 Axes>"
      ]
     },
     "metadata": {},
     "output_type": "display_data"
    }
   ],
   "source": [
    "plt.figure(figsize=(grid_x+1, grid_y))\n",
    "frequencies = np.zeros((grid_x, grid_y))\n",
    "for position, values in som.win_map(X_train_scaled).items():\n",
    "    frequencies[position[0], position[1]] = len(values)\n",
    "plt.pcolor(frequencies, cmap='Blues')\n",
    "plt.colorbar()\n",
    "plt.show()"
   ]
  },
  {
   "cell_type": "markdown",
   "metadata": {},
   "source": [
    "## Class Pies "
   ]
  },
  {
   "cell_type": "code",
   "execution_count": 33,
   "metadata": {},
   "outputs": [
    {
     "data": {
      "image/png": "[encoded data removed]",
      "text/plain": [
       "<Figure size 648x576 with 55 Axes>"
      ]
     },
     "metadata": {},
     "output_type": "display_data"
    }
   ],
   "source": [
    "labels_map = som.labels_map(X_train_scaled, y_train)\n",
    "label_names = np.unique(y)\n",
    "                        \n",
    "plt.figure(figsize=(grid_x+1, grid_y))\n",
    "the_grid = GridSpec(grid_x, grid_y)\n",
    "for position in labels_map.keys():\n",
    "    label_fracs = [labels_map[position][l] for l in label_names]\n",
    "    plt.subplot(the_grid[6-position[1], position[0]], aspect=1)\n",
    "    patches, texts = plt.pie(label_fracs)\n",
    "plt.legend(patches, label_names, bbox_to_anchor=(0, 8), ncol=3)\n",
    "plt.savefig('som_keystroke_pies.png')\n",
    "plt.show()"
   ]
  },
  {
   "cell_type": "markdown",
   "metadata": {},
   "source": []
  },
  {
   "cell_type": "code",
   "execution_count": null,
   "metadata": {},
   "outputs": [],
   "source": []
  }
 ],
 "metadata": {
  "kernelspec": {
   "display_name": "Python 3",
   "language": "python",
   "name": "python3"
  },
  "language_info": {
   "codemirror_mode": {
    "name": "ipython",
    "version": 3
   },
   "file_extension": ".py",
   "mimetype": "text/x-python",
   "name": "python",
   "nbconvert_exporter": "python",
   "pygments_lexer": "ipython3",
   "version": "3.6.5"
  }
 },
 "nbformat": 4,
 "nbformat_minor": 2
}
